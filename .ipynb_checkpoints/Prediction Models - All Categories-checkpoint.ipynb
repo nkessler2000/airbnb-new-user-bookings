{
 "cells": [
  {
   "cell_type": "code",
   "execution_count": 1,
   "metadata": {},
   "outputs": [],
   "source": [
    "# set imports\n",
    "import os\n",
    "import zipfile\n",
    "import pandas as pd\n",
    "import numpy as np\n",
    "from datetime import date\n",
    "import matplotlib.pyplot as plt\n",
    "import itertools\n",
    "from scipy import stats\n",
    "\n",
    "from sklearn.neural_network import MLPClassifier\n",
    "from sklearn.linear_model import LogisticRegressionCV\n",
    "from sklearn.ensemble import RandomForestClassifier, GradientBoostingClassifier, ExtraTreesClassifier, AdaBoostClassifier\n",
    "from sklearn.svm import SVC\n",
    "from sklearn.neighbors import KNeighborsClassifier\n",
    "from sklearn.tree import DecisionTreeClassifier\n",
    "from sklearn.naive_bayes import GaussianNB\n",
    "from sklearn.metrics import classification_report, confusion_matrix\n",
    "from sklearn.model_selection import cross_val_score, train_test_split, RandomizedSearchCV, GridSearchCV\n",
    "\n",
    "random_state = 1"
   ]
  },
  {
   "cell_type": "code",
   "execution_count": 2,
   "metadata": {},
   "outputs": [],
   "source": [
    "# read in data\n",
    "\n",
    "train_file = './train_users_2.csv.zip'\n",
    "def zip_to_df(filepath):\n",
    "    zfile = zipfile.ZipFile(filepath)\n",
    "    for finfo in zfile.infolist():\n",
    "        ifile = zfile.open(finfo)\n",
    "        df = pd.read_csv(ifile)\n",
    "    return df\n",
    "\n",
    "df = zip_to_df(train_file)\n",
    "        "
   ]
  },
  {
   "cell_type": "code",
   "execution_count": 3,
   "metadata": {},
   "outputs": [],
   "source": [
    "# Data clean up. \n",
    "\n",
    "df['gender'].replace('-unknown-', 'UNKNOWN', inplace=True)\n",
    "df['gender'].replace(np.NaN, 'UNKNOWN', inplace=True)\n",
    "\n",
    "# convert timestamp_first_active from string to datetime\n",
    "df['timestamp_first_active'] = pd.to_datetime(df['timestamp_first_active'], format='%Y%m%d%H%M%S')\n",
    "\n",
    "# set datetime values to datetime types\n",
    "df['date_account_created'] = pd.to_datetime(df['date_account_created'])\n",
    "df['date_first_booking'] = pd.to_datetime(df['date_first_booking'])\n",
    "\n",
    "\n",
    "# the 'age' column has some extreme outliers and lots of missing values\n",
    "# create a function for correcting values in age column, then apply\n",
    "def check_age(age):\n",
    "    if age in (np.nan, np.NaN):\n",
    "        return np.NaN\n",
    "    elif age >= 1000:\n",
    "        # if age > 1000, I assume that the age value is actually birth year\n",
    "        # subtract birth year from current year to calculate age\n",
    "        return date.today().year - age\n",
    "    else:\n",
    "        return age\n",
    "    \n",
    "df['age'] = df['age'].apply(check_age)\n",
    "\n",
    "# also add an age_group column\n",
    "\n",
    "def age_group(age):\n",
    "    if age in range(19):\n",
    "        return '0-18'\n",
    "    elif age in range(19, 26):\n",
    "        return '19-25'\n",
    "    elif age in range(26,36):\n",
    "        return '26-35'\n",
    "    elif age in range(36,51):\n",
    "        return '36-50'\n",
    "    elif age in range(51, 66):\n",
    "        return '51-65'\n",
    "    elif age > 65:\n",
    "        return '66+'\n",
    "    \n",
    "df['age_group'] = df.age.apply(age_group)\n",
    "df['age_group'].fillna('Unknown', inplace=True)\n",
    "    \n",
    "# calculate number of days to book \n",
    "df['days_to_book'] = df[df.country_destination != 'NDF'].date_first_booking - df[df.country_destination != 'NDF'].date_account_created\n",
    "df['days_to_book'] = df.days_to_book.dt.days\n",
    "\n",
    "# add a device class columns (desktop, phone, tablet, or unknown)\n",
    "\n",
    "def get_device_class(val):\n",
    "    if str(val).lower().find('desktop') > 0:\n",
    "        return 'Desktop'\n",
    "    elif str(val).lower().find('phone') > 0:\n",
    "        return 'Phone'\n",
    "    elif val in ('iPad', 'Android Tablet'):\n",
    "        return 'Tablet'\n",
    "    else:\n",
    "        return 'Unknown'\n",
    "\n",
    "df['first_device_class'] = df['first_device_type'].apply(get_device_class)\n",
    "\n",
    "# also add a 'affiliate provider' type column\n",
    "\n",
    "def get_aff_provider_type(val):\n",
    "    search_engines = ('google', 'bing', 'baidu', 'yahoo', \n",
    "                     'yandex', 'naver', 'daum')\n",
    "    direct = ('direct', 'email-marketing')\n",
    "    social = ('facebook', 'meetup', 'facebook-open-graph', 'wayn')\n",
    "    \n",
    "    if str(val).lower() in direct:\n",
    "        return 'direct'\n",
    "    elif str(val).lower() in search_engines:\n",
    "        return 'search'\n",
    "    elif str(val).lower() in social:\n",
    "        return 'social'\n",
    "    else:\n",
    "        return 'other'\n",
    "    \n",
    "df['affiliate_provider_type'] = df.affiliate_provider.apply(get_aff_provider_type)\n"
   ]
  },
  {
   "cell_type": "code",
   "execution_count": 4,
   "metadata": {},
   "outputs": [],
   "source": [
    "# function for plotting confusion matrices\n",
    "\n",
    "def cm_plot(cm, classes, title, cmap=plt.cm.Reds, figsize=(10,8), normalize=False, cbar=True):\n",
    "    if normalize:\n",
    "        cm = cm.astype('float') / cm.sum(axis=1)[:, np.newaxis]\n",
    "    \n",
    "    _ = plt.figure(figsize=figsize)\n",
    "    _ = plt.imshow(cm, interpolation='nearest', cmap=cmap)\n",
    "    \n",
    "    _ = plt.title(title)\n",
    "    if cbar:\n",
    "        _ = plt.colorbar()\n",
    "    tick_marks = np.arange(len(classes))\n",
    "    _ = plt.xticks(tick_marks, classes, rotation=45)\n",
    "    _ = plt.yticks(tick_marks, classes)\n",
    "\n",
    "    fmt = '.2f' if normalize else 'd'\n",
    "\n",
    "    thresh = cm.max() / 2.\n",
    "    for i, j in itertools.product(range(cm.shape[0]), range(cm.shape[1])):\n",
    "        _ = plt.text(j, i, format(cm[i, j], fmt),\n",
    "                 horizontalalignment=\"center\",\n",
    "                 color=\"white\" if cm[i, j] > thresh else \"black\")\n",
    "\n",
    "    _ = plt.tight_layout()\n",
    "    _ = plt.ylabel('True label')\n",
    "    _ = plt.xlabel('Predicted label')\n",
    "    return _\n"
   ]
  },
  {
   "cell_type": "code",
   "execution_count": 5,
   "metadata": {},
   "outputs": [],
   "source": [
    "# function to convert a confusion matrix to a DataFrame\n",
    "def cm_to_df(cm, classes):\n",
    "    import pandas\n",
    "    df = pandas.DataFrame(cm, index=classes, columns=classes)\n",
    "    return df"
   ]
  },
  {
   "cell_type": "code",
   "execution_count": 6,
   "metadata": {},
   "outputs": [],
   "source": [
    "# Separate into target and features datasets\n",
    "\n",
    "# target variable is the destination country\n",
    "y = df.country_destination\n",
    "\n",
    "# predictors are every variable except  country_desintation and the date values. \n",
    "# (days between date_account_created and date_first_booking is stored as calculated column)\n",
    "X = df.drop(['id', 'country_destination', 'date_account_created', 'timestamp_first_active', \n",
    "            'date_first_booking'], axis=1)"
   ]
  },
  {
   "cell_type": "code",
   "execution_count": 7,
   "metadata": {},
   "outputs": [],
   "source": [
    "# One hot encoding of categorical variables \n",
    "# using Pandas get_dummies method\n",
    "\n",
    "X_onehot = pd.get_dummies(X)"
   ]
  },
  {
   "cell_type": "code",
   "execution_count": 8,
   "metadata": {},
   "outputs": [],
   "source": [
    "# we can't use MLP on data that has NaNs. \n",
    "X_onehot.age = X_onehot.age.fillna(0)\n",
    "# fill as median or mean instead of 0\n",
    "# or drop age column and just use groups\n",
    "\n",
    "# replace null values in the \"days to book\" column with 100000. # A null in this column means that the user did not book a trip. \n",
    "# By setting this value far enough apart from values where the user booked a trip\n",
    "# it is distinct enough that the model will be able to associate very high \"days to book\" with a user having not booked\n",
    "X_onehot.days_to_book = X_onehot.days_to_book.fillna(100000)"
   ]
  },
  {
   "cell_type": "code",
   "execution_count": 9,
   "metadata": {},
   "outputs": [],
   "source": [
    "# create a test / train split. This is temporary, as our dataset includes a test set to test against\n",
    "X_train, X_test, y_train, y_test = train_test_split(\n",
    "    X_onehot, y, test_size=0.1, random_state=random_state)"
   ]
  },
  {
   "cell_type": "code",
   "execution_count": 10,
   "metadata": {},
   "outputs": [
    {
     "data": {
      "text/plain": [
       "MLPClassifier(activation='relu', alpha=0.0001, batch_size='auto', beta_1=0.9,\n",
       "       beta_2=0.999, early_stopping=False, epsilon=1e-08,\n",
       "       hidden_layer_sizes=(100,), learning_rate='constant',\n",
       "       learning_rate_init=0.001, max_iter=200, momentum=0.9,\n",
       "       nesterovs_momentum=True, power_t=0.5, random_state=1, shuffle=True,\n",
       "       solver='adam', tol=0.0001, validation_fraction=0.1, verbose=False,\n",
       "       warm_start=False)"
      ]
     },
     "execution_count": 10,
     "metadata": {},
     "output_type": "execute_result"
    }
   ],
   "source": [
    "# Setup MLP\n",
    "mlp = MLPClassifier(random_state=random_state)\n",
    "# fit the training data\n",
    "mlp.fit(X_train, y_train)"
   ]
  },
  {
   "cell_type": "code",
   "execution_count": 13,
   "metadata": {},
   "outputs": [],
   "source": [
    "# scoring\n",
    "y_pred = mlp.predict(X_test)"
   ]
  },
  {
   "cell_type": "code",
   "execution_count": 14,
   "metadata": {},
   "outputs": [
    {
     "data": {
      "text/plain": [
       "0.87997751335144758"
      ]
     },
     "execution_count": 14,
     "metadata": {},
     "output_type": "execute_result"
    }
   ],
   "source": [
    "mlp.score(X_test, y_test)\n",
    "# 0.8809 not bad for using the defaults"
   ]
  },
  {
   "cell_type": "code",
   "execution_count": 16,
   "metadata": {},
   "outputs": [
    {
     "name": "stderr",
     "output_type": "stream",
     "text": [
      "C:\\Program Files (x86)\\Microsoft Visual Studio\\Shared\\Anaconda3_64\\lib\\site-packages\\sklearn\\metrics\\classification.py:1135: UndefinedMetricWarning: Precision and F-score are ill-defined and being set to 0.0 in labels with no predicted samples.\n",
      "  'precision', 'predicted', average, warn_for)\n"
     ]
    },
    {
     "name": "stdout",
     "output_type": "stream",
     "text": [
      "             precision    recall  f1-score   support\n",
      "\n",
      "         AU       0.00      0.00      0.00        59\n",
      "         CA       0.00      0.00      0.00       134\n",
      "         DE       0.00      0.00      0.00       114\n",
      "         ES       0.00      0.00      0.00       204\n",
      "         FR       0.00      0.00      0.00       472\n",
      "         GB       0.00      0.00      0.00       251\n",
      "         IT       0.00      0.00      0.00       286\n",
      "        NDF       1.00      1.00      1.00     12547\n",
      "         NL       0.00      0.00      0.00        57\n",
      "         PT       0.00      0.00      0.00        16\n",
      "         US       0.71      1.00      0.83      6256\n",
      "      other       0.17      0.00      0.00       950\n",
      "\n",
      "avg / total       0.80      0.88      0.83     21346\n",
      "\n"
     ]
    },
    {
     "data": {
      "image/png": "[encoded data removed]",
      "text/plain": [
       "<matplotlib.figure.Figure at 0x2242a253780>"
      ]
     },
     "metadata": {},
     "output_type": "display_data"
    }
   ],
   "source": [
    "sorted_classes = sorted(y.unique())\n",
    "print(classification_report(y_test, y_pred))\n",
    "_ = cm_plot(confusion_matrix(y_test, y_pred), classes=sorted_classes, title='MLP Confusion Matrix', normalize=True)\n",
    "# from the classification report, we see that the only categories the model predicts \n",
    "# are US and NDF, which together comprise about 88% of the actual data. So while the model is reasonably accurate\n",
    "# it's at the cost of non-dominant categories being excluded from prediction"
   ]
  },
  {
   "cell_type": "code",
   "execution_count": 13,
   "metadata": {},
   "outputs": [
    {
     "data": {
      "text/plain": [
       "RandomizedSearchCV(cv=10, error_score='raise',\n",
       "          estimator=MLPClassifier(activation='relu', alpha=0.0001, batch_size='auto', beta_1=0.9,\n",
       "       beta_2=0.999, early_stopping=False, epsilon=1e-08,\n",
       "       hidden_layer_sizes=(100,), learning_rate='constant',\n",
       "       learning_rate_init=0.001, max_iter=200, momentum=0.9,\n",
       "       nesterovs_momentum=True, power_t=0.5, random_state=None,\n",
       "       shuffle=True, solver='adam', tol=0.0001, validation_fraction=0.1,\n",
       "       verbose=False, warm_start=False),\n",
       "          fit_params=None, iid=True, n_iter=20, n_jobs=2,\n",
       "          param_distributions={'hidden_layer_sizes': [(10,), (20,), (30,), (40,)], 'tol': <scipy.stats._distn_infrastructure.rv_frozen object at 0x0000014860F8EB38>, 'alpha': <scipy.stats._distn_infrastructure.rv_frozen object at 0x0000014860F8ECC0>, 'learning_rate': ['constant', 'invscaling', 'adaptive'], 'activation': ['identity', 'logistic', 'relu', 'tanh']},\n",
       "          pre_dispatch='2*n_jobs', random_state=None, refit=True,\n",
       "          return_train_score='warn', scoring=None, verbose=0)"
      ]
     },
     "execution_count": 13,
     "metadata": {},
     "output_type": "execute_result"
    }
   ],
   "source": [
    "# lets see if we can fit the MLP model better using a random grid search\n",
    "\n",
    "param_mlp = {'hidden_layer_sizes': [(10,), (20,), (30,), (40,)], \n",
    "             'tol': stats.uniform(1e-06, 1e-02),\n",
    "             'alpha':stats.uniform(1e-08, 1e-03),\n",
    "             'learning_rate': ['constant', 'invscaling', 'adaptive'],\n",
    "             'activation': ['identity', 'logistic', 'relu', 'tanh']}\n",
    "\n",
    "mlp_cv = RandomizedSearchCV(mlp, param_mlp, cv=10, n_iter=20, n_jobs=2)\n",
    "mlp_cv.fit(X_train, y_train)"
   ]
  },
  {
   "cell_type": "code",
   "execution_count": 14,
   "metadata": {},
   "outputs": [
    {
     "name": "stdout",
     "output_type": "stream",
     "text": [
      "{'activation': 'tanh', 'alpha': 0.00017904024903299759, 'hidden_layer_sizes': (40,), 'learning_rate': 'constant', 'tol': 0.0013949520389692327}\n",
      "0.87513078785\n",
      "             precision    recall  f1-score   support\n",
      "\n",
      "         AU       0.00      0.00      0.00        59\n",
      "         CA       0.00      0.00      0.00       134\n",
      "         DE       0.00      0.00      0.00       114\n",
      "         ES       0.00      0.00      0.00       204\n",
      "         FR       0.00      0.00      0.00       472\n",
      "         GB       0.00      0.00      0.00       251\n",
      "         IT       0.00      0.00      0.00       286\n",
      "        NDF       1.00      1.00      1.00     12547\n",
      "         NL       0.00      0.00      0.00        57\n",
      "         PT       0.00      0.00      0.00        16\n",
      "         US       0.71      1.00      0.83      6256\n",
      "      other       0.00      0.00      0.00       950\n",
      "\n",
      "avg / total       0.80      0.88      0.83     21346\n",
      "\n"
     ]
    },
    {
     "name": "stderr",
     "output_type": "stream",
     "text": [
      "C:\\Program Files (x86)\\Microsoft Visual Studio\\Shared\\Anaconda3_64\\lib\\site-packages\\sklearn\\metrics\\classification.py:1135: UndefinedMetricWarning: Precision and F-score are ill-defined and being set to 0.0 in labels with no predicted samples.\n",
      "  'precision', 'predicted', average, warn_for)\n"
     ]
    }
   ],
   "source": [
    "# how does it look?\n",
    "y_cv_pred = mlp_cv.predict(X_test)\n",
    "\n",
    "#stats \n",
    "print(mlp_cv.best_params_)\n",
    "print(mlp_cv.best_score_)\n",
    "print(classification_report(y_test, y_cv_pred))\n"
   ]
  },
  {
   "cell_type": "code",
   "execution_count": 15,
   "metadata": {},
   "outputs": [],
   "source": [
    "# even after a random serach, results not really any better than the default. \n",
    "# notice that the model never picks a country other than US and NDF. Hmmm\n"
   ]
  },
  {
   "cell_type": "code",
   "execution_count": 16,
   "metadata": {},
   "outputs": [
    {
     "name": "stderr",
     "output_type": "stream",
     "text": [
      "C:\\Program Files (x86)\\Microsoft Visual Studio\\Shared\\Anaconda3_64\\lib\\site-packages\\sklearn\\metrics\\classification.py:1135: UndefinedMetricWarning: Precision and F-score are ill-defined and being set to 0.0 in labels with no predicted samples.\n",
      "  'precision', 'predicted', average, warn_for)\n",
      "C:\\Program Files (x86)\\Microsoft Visual Studio\\Shared\\Anaconda3_64\\lib\\site-packages\\sklearn\\metrics\\classification.py:1135: UndefinedMetricWarning: Precision and F-score are ill-defined and being set to 0.0 in labels with no predicted samples.\n",
      "  'precision', 'predicted', average, warn_for)\n"
     ]
    }
   ],
   "source": [
    "# let's try many models\n",
    "\n",
    "#Defining the classifiers\n",
    "classifiers = {\n",
    "        'tree': DecisionTreeClassifier(random_state=random_state),\n",
    "        'svm' : SVC(probability=True, random_state=random_state), \n",
    "        'rf'  : RandomForestClassifier(n_estimators=100, n_jobs=2, \n",
    "                                       random_state=random_state), \n",
    "        'gb' : GradientBoostingClassifier(n_estimators=50, \n",
    "                                          random_state=random_state), \n",
    "        'etc' : ExtraTreesClassifier(n_estimators=100, n_jobs=2, \n",
    "                                     random_state=random_state),\n",
    "        'nb'  : GaussianNB()\n",
    "}\n",
    "    \n",
    "#predictions on the validation and test sets\n",
    "p_test = []\n",
    "p_score = {}\n",
    "p_classrpt = {}\n",
    "   \n",
    "for nm, clf in classifiers.items():\n",
    "    clf.fit(X_train, y_train)\n",
    "    y_prob = clf.predict_proba(X_test)\n",
    "    y_pred = clf.predict(X_test)\n",
    "    p_test.append(y_prob)\n",
    "    p_score[nm] = clf.score(X_test, y_test)\n",
    "    p_classrpt[nm] = classification_report(y_test, y_pred)\n"
   ]
  },
  {
   "cell_type": "code",
   "execution_count": 17,
   "metadata": {
    "scrolled": true
   },
   "outputs": [
    {
     "name": "stdout",
     "output_type": "stream",
     "text": [
      "[array([[ 0. ,  0. ,  0. , ...,  0. ,  1. ,  0. ],\n",
      "       [ 0. ,  0. ,  0. , ...,  0. ,  0. ,  0. ],\n",
      "       [ 0. ,  0. ,  0. , ...,  0. ,  0. ,  0. ],\n",
      "       ..., \n",
      "       [ 0. ,  0. ,  0. , ...,  0. ,  1. ,  0. ],\n",
      "       [ 0. ,  0. ,  0. , ...,  0. ,  0.5,  0. ],\n",
      "       [ 0. ,  0. ,  0. , ...,  0. ,  0. ,  0. ]]), array([[  6.14495096e-03,   1.68597753e-02,   1.18581542e-02, ...,\n",
      "          2.48592379e-03,   7.02261982e-01,   1.13910185e-01],\n",
      "       [  2.18121551e-10,   3.16454176e-10,   2.66748060e-10, ...,\n",
      "          1.36036482e-06,   8.04013545e-06,   4.60401527e-06],\n",
      "       [  2.77004786e-10,   4.01882915e-10,   3.38758294e-10, ...,\n",
      "          1.52507950e-06,   9.31877566e-06,   5.25381673e-06],\n",
      "       ..., \n",
      "       [  5.88871134e-03,   1.55925239e-02,   1.17450424e-02, ...,\n",
      "          2.21301599e-03,   7.03653385e-01,   1.14409341e-01],\n",
      "       [  5.83463529e-03,   1.65977575e-02,   1.17019449e-02, ...,\n",
      "          2.51921243e-03,   7.00248014e-01,   1.14306675e-01],\n",
      "       [  2.67213950e-10,   3.87678220e-10,   3.26784769e-10, ...,\n",
      "          1.49745646e-06,   9.12755682e-06,   5.14921988e-06]]), array([[ 0.        ,  0.        ,  0.        , ...,  0.        ,\n",
      "         0.96      ,  0.01      ],\n",
      "       [ 0.        ,  0.        ,  0.        , ...,  0.        ,\n",
      "         0.        ,  0.        ],\n",
      "       [ 0.        ,  0.        ,  0.        , ...,  0.        ,\n",
      "         0.        ,  0.        ],\n",
      "       ..., \n",
      "       [ 0.        ,  0.        ,  0.        , ...,  0.        ,\n",
      "         0.75      ,  0.01      ],\n",
      "       [ 0.        ,  0.        ,  0.06      , ...,  0.        ,\n",
      "         0.89833333,  0.01      ],\n",
      "       [ 0.        ,  0.        ,  0.        , ...,  0.        ,\n",
      "         0.        ,  0.        ]]), array([[  7.12493009e-03,   1.49984467e-02,   1.22193917e-02, ...,\n",
      "          2.76901540e-03,   7.02216397e-01,   1.40302038e-01],\n",
      "       [  1.99855745e-05,   1.04307617e-04,   7.59756013e-05, ...,\n",
      "          1.21067073e-05,   1.53208613e-04,   9.26041918e-05],\n",
      "       [  1.99824759e-05,   1.02492434e-04,   9.39049051e-05, ...,\n",
      "          1.21048302e-05,   1.49067231e-04,   9.26959655e-05],\n",
      "       ..., \n",
      "       [  6.46575833e-03,   1.56494524e-02,   9.25931921e-03, ...,\n",
      "          3.31102120e-03,   6.91104683e-01,   1.44543980e-01],\n",
      "       [  4.69480815e-03,   2.14530326e-02,   1.38200102e-02, ...,\n",
      "          2.68969893e-03,   6.98358857e-01,   1.00869663e-01],\n",
      "       [  1.99822068e-05,   1.39563873e-04,   8.84044950e-05, ...,\n",
      "          1.21046672e-05,   1.50212024e-04,   9.31291196e-05]]), array([[ 0.  ,  0.  ,  0.  , ...,  0.  ,  0.89,  0.02],\n",
      "       [ 0.  ,  0.  ,  0.  , ...,  0.  ,  0.  ,  0.  ],\n",
      "       [ 0.  ,  0.  ,  0.  , ...,  0.  ,  0.  ,  0.  ],\n",
      "       ..., \n",
      "       [ 0.  ,  0.  ,  0.  , ...,  0.  ,  0.98,  0.  ],\n",
      "       [ 0.  ,  0.  ,  0.01, ...,  0.  ,  0.93,  0.  ],\n",
      "       [ 0.  ,  0.  ,  0.  , ...,  0.  ,  0.  ,  0.  ]]), array([[  2.57192314e-02,   3.09718063e-02,   1.99771874e-02, ...,\n",
      "          2.63780885e-03,   4.51646204e-01,   1.63574888e-01],\n",
      "       [  0.00000000e+00,   0.00000000e+00,   0.00000000e+00, ...,\n",
      "          0.00000000e+00,   0.00000000e+00,   0.00000000e+00],\n",
      "       [  0.00000000e+00,   0.00000000e+00,   0.00000000e+00, ...,\n",
      "          0.00000000e+00,   0.00000000e+00,   0.00000000e+00],\n",
      "       ..., \n",
      "       [  5.89944254e-03,   5.33187419e-02,   8.04503630e-03, ...,\n",
      "          1.44723772e-02,   5.37415354e-01,   1.68970075e-01],\n",
      "       [  1.39953122e-03,   1.87065074e-01,   1.80383647e-01, ...,\n",
      "          1.74909971e-04,   1.81475314e-01,   7.92925866e-02],\n",
      "       [  0.00000000e+00,   0.00000000e+00,   0.00000000e+00, ...,\n",
      "          0.00000000e+00,   0.00000000e+00,   0.00000000e+00]])]\n",
      "{'tree': 0.8116274711889816, 'svm': 0.88086760985664758, 'rf': 0.8498079265436147, 'gb': 0.88082076267216336, 'etc': 0.8345825915862457, 'nb': 0.81078422186826571}\n"
     ]
    }
   ],
   "source": [
    "print(p_test)\n",
    "print(p_score)"
   ]
  },
  {
   "cell_type": "code",
   "execution_count": 19,
   "metadata": {},
   "outputs": [
    {
     "name": "stdout",
     "output_type": "stream",
     "text": [
      "tree:\n",
      "             precision    recall  f1-score   support\n",
      "\n",
      "         AU       0.00      0.00      0.00        59\n",
      "         CA       0.01      0.01      0.01       134\n",
      "         DE       0.01      0.01      0.01       114\n",
      "         ES       0.02      0.02      0.02       204\n",
      "         FR       0.07      0.07      0.07       472\n",
      "         GB       0.04      0.04      0.04       251\n",
      "         IT       0.04      0.04      0.04       286\n",
      "        NDF       1.00      1.00      1.00     12547\n",
      "         NL       0.01      0.02      0.01        57\n",
      "         PT       0.00      0.00      0.00        16\n",
      "         US       0.72      0.74      0.73      6256\n",
      "      other       0.13      0.10      0.11       950\n",
      "\n",
      "avg / total       0.81      0.81      0.81     21346\n",
      "\n",
      "svm:\n",
      "             precision    recall  f1-score   support\n",
      "\n",
      "         AU       0.00      0.00      0.00        59\n",
      "         CA       0.00      0.00      0.00       134\n",
      "         DE       0.00      0.00      0.00       114\n",
      "         ES       0.00      0.00      0.00       204\n",
      "         FR       0.00      0.00      0.00       472\n",
      "         GB       0.00      0.00      0.00       251\n",
      "         IT       0.00      0.00      0.00       286\n",
      "        NDF       1.00      1.00      1.00     12547\n",
      "         NL       0.00      0.00      0.00        57\n",
      "         PT       0.00      0.00      0.00        16\n",
      "         US       0.71      1.00      0.83      6256\n",
      "      other       0.00      0.00      0.00       950\n",
      "\n",
      "avg / total       0.80      0.88      0.83     21346\n",
      "\n",
      "rf:\n",
      "             precision    recall  f1-score   support\n",
      "\n",
      "         AU       0.00      0.00      0.00        59\n",
      "         CA       0.04      0.01      0.02       134\n",
      "         DE       0.03      0.01      0.01       114\n",
      "         ES       0.01      0.00      0.01       204\n",
      "         FR       0.08      0.03      0.05       472\n",
      "         GB       0.03      0.01      0.02       251\n",
      "         IT       0.05      0.02      0.03       286\n",
      "        NDF       1.00      1.00      1.00     12547\n",
      "         NL       0.00      0.00      0.00        57\n",
      "         PT       0.00      0.00      0.00        16\n",
      "         US       0.72      0.88      0.79      6256\n",
      "      other       0.13      0.06      0.08       950\n",
      "\n",
      "avg / total       0.81      0.85      0.83     21346\n",
      "\n",
      "gb:\n",
      "             precision    recall  f1-score   support\n",
      "\n",
      "         AU       0.00      0.00      0.00        59\n",
      "         CA       0.00      0.00      0.00       134\n",
      "         DE       0.00      0.00      0.00       114\n",
      "         ES       0.00      0.00      0.00       204\n",
      "         FR       0.00      0.00      0.00       472\n",
      "         GB       0.00      0.00      0.00       251\n",
      "         IT       0.00      0.00      0.00       286\n",
      "        NDF       1.00      1.00      1.00     12547\n",
      "         NL       0.00      0.00      0.00        57\n",
      "         PT       0.00      0.00      0.00        16\n",
      "         US       0.71      1.00      0.83      6256\n",
      "      other       0.00      0.00      0.00       950\n",
      "\n",
      "avg / total       0.80      0.88      0.83     21346\n",
      "\n",
      "etc:\n",
      "             precision    recall  f1-score   support\n",
      "\n",
      "         AU       0.00      0.00      0.00        59\n",
      "         CA       0.02      0.01      0.02       134\n",
      "         DE       0.04      0.02      0.02       114\n",
      "         ES       0.01      0.01      0.01       204\n",
      "         FR       0.10      0.07      0.08       472\n",
      "         GB       0.03      0.02      0.02       251\n",
      "         IT       0.07      0.05      0.05       286\n",
      "        NDF       1.00      1.00      1.00     12547\n",
      "         NL       0.00      0.00      0.00        57\n",
      "         PT       0.00      0.00      0.00        16\n",
      "         US       0.72      0.82      0.77      6256\n",
      "      other       0.12      0.07      0.09       950\n",
      "\n",
      "avg / total       0.81      0.83      0.82     21346\n",
      "\n",
      "nb:\n",
      "             precision    recall  f1-score   support\n",
      "\n",
      "         AU       0.00      0.00      0.00        59\n",
      "         CA       0.02      0.01      0.01       134\n",
      "         DE       0.12      0.04      0.06       114\n",
      "         ES       0.07      0.13      0.09       204\n",
      "         FR       0.07      0.14      0.10       472\n",
      "         GB       0.06      0.10      0.07       251\n",
      "         IT       0.04      0.07      0.05       286\n",
      "        NDF       1.00      1.00      1.00     12547\n",
      "         NL       0.00      0.00      0.00        57\n",
      "         PT       0.00      0.00      0.00        16\n",
      "         US       0.73      0.74      0.73      6256\n",
      "      other       0.16      0.02      0.03       950\n",
      "\n",
      "avg / total       0.81      0.81      0.81     21346\n",
      "\n"
     ]
    }
   ],
   "source": [
    "for k, v in p_classrpt.items():\n",
    "    print('{0}:\\n{1}'.format(k, v))"
   ]
  },
  {
   "cell_type": "code",
   "execution_count": 39,
   "metadata": {},
   "outputs": [
    {
     "name": "stdout",
     "output_type": "stream",
     "text": [
      "Score:\n",
      " 0.880867609857\n",
      "             precision    recall  f1-score   support\n",
      "\n",
      "         AU       0.00      0.00      0.00        59\n",
      "         CA       0.00      0.00      0.00       134\n",
      "         DE       0.00      0.00      0.00       114\n",
      "         ES       0.00      0.00      0.00       204\n",
      "         FR       0.00      0.00      0.00       472\n",
      "         GB       0.00      0.00      0.00       251\n",
      "         IT       0.00      0.00      0.00       286\n",
      "        NDF       1.00      1.00      1.00     12547\n",
      "         NL       0.00      0.00      0.00        57\n",
      "         PT       0.00      0.00      0.00        16\n",
      "         US       0.71      1.00      0.83      6256\n",
      "      other       0.00      0.00      0.00       950\n",
      "\n",
      "avg / total       0.80      0.88      0.83     21346\n",
      "\n"
     ]
    },
    {
     "name": "stderr",
     "output_type": "stream",
     "text": [
      "C:\\Program Files (x86)\\Microsoft Visual Studio\\Shared\\Anaconda3_64\\lib\\site-packages\\sklearn\\metrics\\classification.py:1135: UndefinedMetricWarning: Precision and F-score are ill-defined and being set to 0.0 in labels with no predicted samples.\n",
      "  'precision', 'predicted', average, warn_for)\n"
     ]
    }
   ],
   "source": [
    "# instead of using 0 for missing ages, try filling in mean or median and see if we\n",
    "# we get a better fit\n",
    "X_onehot = pd.get_dummies(X)\n",
    "X_onehot.age.fillna(X_onehot.age.mean(), inplace=True)\n",
    "# or drop age column and just use groups\n",
    "\n",
    "# also use 100,000 as replacement for NA days to book so we can set it further\n",
    "# apart from values with actual bookings\n",
    "X_onehot.days_to_book = X_onehot.days_to_book.fillna(100000)\n",
    "\n",
    "# create a test / train split. This is temporary, as our dataset includes a test set to test against\n",
    "from sklearn.model_selection import train_test_split\n",
    "\n",
    "X_train, X_test, y_train, y_test = train_test_split(\n",
    "    X_onehot, y, test_size=0.1, random_state=random_state)\n",
    "\n",
    "# fit the training data\n",
    "mlp.fit(X_train, y_train)\n",
    "y_pred = mlp.predict(X_test)\n",
    "# scoring\n",
    "print('Score:\\n', mlp.score(X_test, y_test))\n",
    "# classification report\n",
    "print(classification_report(y_test, y_pred))\n",
    "\n",
    "# looking at score and classification report results, does not appear to be\n",
    "# a substantial improvement. "
   ]
  },
  {
   "cell_type": "code",
   "execution_count": 41,
   "metadata": {},
   "outputs": [
    {
     "name": "stdout",
     "output_type": "stream",
     "text": [
      "Score:\n",
      " 0.587979012461\n",
      "             precision    recall  f1-score   support\n",
      "\n",
      "         AU       0.00      0.00      0.00        59\n",
      "         CA       0.00      0.00      0.00       134\n",
      "         DE       0.00      0.00      0.00       114\n",
      "         ES       0.00      0.00      0.00       204\n",
      "         FR       0.00      0.00      0.00       472\n",
      "         GB       0.00      0.00      0.00       251\n",
      "         IT       0.00      0.00      0.00       286\n",
      "        NDF       0.59      1.00      0.74     12547\n",
      "         NL       0.00      0.00      0.00        57\n",
      "         PT       0.00      0.00      0.00        16\n",
      "         US       0.50      0.00      0.00      6256\n",
      "      other       0.00      0.00      0.00       950\n",
      "\n",
      "avg / total       0.49      0.59      0.44     21346\n",
      "\n"
     ]
    },
    {
     "name": "stderr",
     "output_type": "stream",
     "text": [
      "C:\\Program Files (x86)\\Microsoft Visual Studio\\Shared\\Anaconda3_64\\lib\\site-packages\\sklearn\\metrics\\classification.py:1135: UndefinedMetricWarning: Precision and F-score are ill-defined and being set to 0.0 in labels with no predicted samples.\n",
      "  'precision', 'predicted', average, warn_for)\n"
     ]
    }
   ],
   "source": [
    "# does scaling make a difference\n",
    "from sklearn.preprocessing import StandardScaler\n",
    "ss = StandardScaler()\n",
    "X_scaled = ss.fit_transform(X_train)\n",
    "\n",
    "mlp.fit(X_scaled, y_train)\n",
    "y_pred = mlp.predict(X_test)\n",
    "print('Score:\\n', mlp.score(X_test, y_test))\n",
    "print(classification_report(y_test, y_pred))\n",
    "\n",
    "# useless results. Scaling doesn't work on one-hot encoded data?\n",
    "\n",
    "# try manually scaling - \n",
    "# (value - mean) / sd"
   ]
  },
  {
   "cell_type": "code",
   "execution_count": 114,
   "metadata": {},
   "outputs": [],
   "source": [
    "# if we exclude age as a feature and only use age group, will that improve\n",
    "# model accuracy?\n",
    "\n",
    "X_onehot_noage = X_onehot.drop('age', axis=1)\n",
    "X_train_noage, X_test_noage, y_train, y_test = train_test_split(\n",
    "    X_onehot_noage, y, test_size=0.1, random_state=random_state)\n"
   ]
  },
  {
   "cell_type": "code",
   "execution_count": 115,
   "metadata": {},
   "outputs": [
    {
     "name": "stdout",
     "output_type": "stream",
     "text": [
      "Score:\n",
      " 0.880820762672\n",
      "Classification Report:\n",
      "              precision    recall  f1-score   support\n",
      "\n",
      "         AU       0.00      0.00      0.00        59\n",
      "         CA       0.00      0.00      0.00       134\n",
      "         DE       0.00      0.00      0.00       114\n",
      "         ES       0.00      0.00      0.00       204\n",
      "         FR       0.00      0.00      0.00       472\n",
      "         GB       0.00      0.00      0.00       251\n",
      "         IT       0.00      0.00      0.00       286\n",
      "        NDF       1.00      1.00      1.00     12547\n",
      "         NL       0.00      0.00      0.00        57\n",
      "         PT       0.00      0.00      0.00        16\n",
      "         US       0.71      1.00      0.83      6256\n",
      "      other       0.33      0.00      0.00       950\n",
      "\n",
      "avg / total       0.81      0.88      0.83     21346\n",
      "\n"
     ]
    },
    {
     "name": "stderr",
     "output_type": "stream",
     "text": [
      "C:\\Program Files (x86)\\Microsoft Visual Studio\\Shared\\Anaconda3_64\\lib\\site-packages\\sklearn\\metrics\\classification.py:1135: UndefinedMetricWarning: Precision and F-score are ill-defined and being set to 0.0 in labels with no predicted samples.\n",
      "  'precision', 'predicted', average, warn_for)\n"
     ]
    }
   ],
   "source": [
    "mlp_noage = MLPClassifier(random_state=random_state)\n",
    "\n",
    "mlp_noage.fit(X_train_noage, y_train)\n",
    "y_pred_noage = mlp_noage.predict(X_test_noage)\n",
    "print('Score:\\n', mlp_noage.score(X_test_noage, y_test))\n",
    "print('Classification Report:\\n', classification_report(y_test, y_pred_noage))\n",
    "\n",
    "# a tiny improvement in score. Classification report shows no change in \n",
    "# precision or recall\n",
    "\n"
   ]
  },
  {
   "cell_type": "code",
   "execution_count": 116,
   "metadata": {},
   "outputs": [
    {
     "data": {
      "text/plain": [
       "LogisticRegressionCV(Cs=10, class_weight=None, cv=None, dual=False,\n",
       "           fit_intercept=True, intercept_scaling=1.0, max_iter=100,\n",
       "           multi_class='ovr', n_jobs=1, penalty='l2', random_state=None,\n",
       "           refit=True, scoring=None, solver='lbfgs', tol=0.0001, verbose=0)"
      ]
     },
     "execution_count": 116,
     "metadata": {},
     "output_type": "execute_result"
    }
   ],
   "source": [
    "# I didn't include Logisic Regression classifier in the models I tested above. \n",
    "# does using LogReg provide an improved result\n",
    "\n",
    "# fit the model\n",
    "logreg = LogisticRegressionCV()\n",
    "logreg.fit(X_train_noage, y_train)\n",
    "\n"
   ]
  },
  {
   "cell_type": "code",
   "execution_count": 117,
   "metadata": {},
   "outputs": [
    {
     "name": "stdout",
     "output_type": "stream",
     "text": [
      "Score:\n",
      " 0.880820762672\n",
      "Classification Report:\n",
      "              precision    recall  f1-score   support\n",
      "\n",
      "         AU       0.00      0.00      0.00        59\n",
      "         CA       0.00      0.00      0.00       134\n",
      "         DE       0.00      0.00      0.00       114\n",
      "         ES       0.00      0.00      0.00       204\n",
      "         FR       0.00      0.00      0.00       472\n",
      "         GB       0.00      0.00      0.00       251\n",
      "         IT       0.00      0.00      0.00       286\n",
      "        NDF       1.00      1.00      1.00     12547\n",
      "         NL       0.00      0.00      0.00        57\n",
      "         PT       0.00      0.00      0.00        16\n",
      "         US       0.71      1.00      0.83      6256\n",
      "      other       0.00      0.00      0.00       950\n",
      "\n",
      "avg / total       0.80      0.88      0.83     21346\n",
      "\n"
     ]
    },
    {
     "name": "stderr",
     "output_type": "stream",
     "text": [
      "C:\\Program Files (x86)\\Microsoft Visual Studio\\Shared\\Anaconda3_64\\lib\\site-packages\\sklearn\\metrics\\classification.py:1135: UndefinedMetricWarning: Precision and F-score are ill-defined and being set to 0.0 in labels with no predicted samples.\n",
      "  'precision', 'predicted', average, warn_for)\n"
     ]
    }
   ],
   "source": [
    "# get predictions, print score and classification report\n",
    "y_pred_noage = logreg.predict(X_test_noage)\n",
    "print('Score:\\n', mlp_noage.score(X_test_noage, y_test))\n",
    "print('Classification Report:\\n', classification_report(y_test, y_pred_noage))\n",
    "\n",
    "# results are roughly the same as MLP"
   ]
  },
  {
   "cell_type": "code",
   "execution_count": 53,
   "metadata": {},
   "outputs": [
    {
     "name": "stdout",
     "output_type": "stream",
     "text": [
      "{'bootstrap': True, 'criterion': 'gini', 'max_features': None, 'n_estimators': 490}\n",
      "0.858025558939\n",
      "             precision    recall  f1-score   support\n",
      "\n",
      "         AU       0.00      0.00      0.00        12\n",
      "         CA       0.01      0.03      0.01        30\n",
      "         DE       0.00      0.00      0.00        12\n",
      "         ES       0.00      0.00      0.00        53\n",
      "         FR       0.02      0.10      0.04       110\n",
      "         GB       0.01      0.04      0.01        49\n",
      "         IT       0.01      0.03      0.01        65\n",
      "        NDF       1.00      1.00      1.00     12547\n",
      "         NL       0.00      0.00      0.00        10\n",
      "         PT       0.00      0.00      0.00         3\n",
      "         US       0.93      0.71      0.81      8167\n",
      "      other       0.04      0.15      0.07       288\n",
      "\n",
      "avg / total       0.95      0.86      0.90     21346\n",
      "\n"
     ]
    }
   ],
   "source": [
    "# random forest classifer has the best accuracy while also including predictions other than US and NDF\n",
    "# does increasing the number of estimators improve model accuracy?\n",
    "\n",
    "from sklearn.ensemble import RandomForestClassifier\n",
    "from sklearn.model_selection import RandomizedSearchCV\n",
    "\n",
    "param_rf = {'n_estimators': stats.randint(50,500),\n",
    "             'criterion': ['gini', 'entropy'],\n",
    "             'max_features':['auto', 'sqrt', 'log2', None],\n",
    "             'bootstrap': [True, False]}\n",
    "\n",
    "rf_cv = RandomizedSearchCV(RandomForestClassifier(), param_rf, cv=10, n_iter=20, n_jobs=3)\n",
    "rf_cv.fit(X_train, y_train)\n",
    "\n",
    "rf_cv.fit(X_train, y_train)\n",
    "y_pred_rf = rf_cv.predict(X_test)\n",
    "\n",
    "print(rf_cv.best_params_)\n",
    "print(rf_cv.best_score_)\n",
    "print(classification_report(y_pred_rf, y_test))"
   ]
  },
  {
   "cell_type": "code",
   "execution_count": 90,
   "metadata": {},
   "outputs": [],
   "source": [
    "def age_group_mean(age):\n",
    "    if age in range(19):\n",
    "        return np.mean(range(19))\n",
    "    elif age in range(19, 26):\n",
    "        return np.mean(range(19, 26))\n",
    "    elif age in range(26,36):\n",
    "        return np.mean(range(26, 36))\n",
    "    elif age in range(36,51):\n",
    "        return np.mean(range(36, 51))\n",
    "    elif age in range(51, 66):\n",
    "        return np.mean(range(51, 66))\n",
    "    elif age > 65:\n",
    "        return np.mean(range(65, 100))\n",
    "    \n",
    "    \n",
    "# instead of age or age groups, use the 'mean' of each age group. Does that make a difference?\n",
    "df['age_group_mean'] = df.age.apply(age_group_mean)\n",
    "df['age_group_mean'].fillna(0, inplace=True)\n",
    "\n",
    "# Separate into target and features datasets\n",
    "\n",
    "# target variable is the destination country\n",
    "y = df.country_destination\n",
    "\n",
    "# predictors are every variable except  country_desintation and the date values. \n",
    "# (days between date_account_created and date_first_booking is stored as calculated column)\n",
    "X = df.drop(['id', 'country_destination', 'date_account_created', 'timestamp_first_active', \n",
    "            'date_first_booking', 'age', 'age_group'], axis=1)\n",
    "    \n",
    "X_onehot = pd.get_dummies(X)\n",
    "X_onehot.days_to_book = X_onehot.days_to_book.fillna(100000)\n",
    "\n",
    "X_train, X_test, y_train, y_test = train_test_split(\n",
    "    X_onehot, y, test_size=0.1, random_state=random_state)\n"
   ]
  },
  {
   "cell_type": "code",
   "execution_count": 95,
   "metadata": {},
   "outputs": [
    {
     "data": {
      "text/plain": [
       "MLPClassifier(activation='relu', alpha=0.0001, batch_size='auto', beta_1=0.9,\n",
       "       beta_2=0.999, early_stopping=False, epsilon=1e-08,\n",
       "       hidden_layer_sizes=(100,), learning_rate='constant',\n",
       "       learning_rate_init=0.001, max_iter=200, momentum=0.9,\n",
       "       nesterovs_momentum=True, power_t=0.5, random_state=None,\n",
       "       shuffle=True, solver='adam', tol=0.0001, validation_fraction=0.1,\n",
       "       verbose=False, warm_start=False)"
      ]
     },
     "execution_count": 95,
     "metadata": {},
     "output_type": "execute_result"
    }
   ],
   "source": [
    "# Random Forest\n",
    "rf_mean_age = RandomForestClassifier(bootstrap=True, criterion='gini', max_features='auto', n_estimators=500)\n",
    "rf_mean_age.fit(X_train, y_train)\n",
    "\n",
    "# MLP\n",
    "mlp_mean_age = MLPClassifier()\n",
    "mlp_mean_age.fit(X_train, y_train)\n"
   ]
  },
  {
   "cell_type": "code",
   "execution_count": 94,
   "metadata": {},
   "outputs": [
    {
     "name": "stdout",
     "output_type": "stream",
     "text": [
      "             precision    recall  f1-score   support\n",
      "\n",
      "         AU       0.00      0.00      0.00        32\n",
      "         CA       0.01      0.05      0.02        40\n",
      "         DE       0.01      0.03      0.01        39\n",
      "         ES       0.00      0.01      0.01        91\n",
      "         FR       0.04      0.08      0.05       208\n",
      "         GB       0.02      0.04      0.02        98\n",
      "         IT       0.02      0.04      0.02       127\n",
      "        NDF       1.00      1.00      1.00     12547\n",
      "         NL       0.00      0.00      0.00        40\n",
      "         PT       0.00      0.00      0.00        12\n",
      "         US       0.87      0.72      0.79      7640\n",
      "      other       0.06      0.12      0.08       472\n",
      "\n",
      "avg / total       0.90      0.85      0.87     21346\n",
      "\n",
      "0.848121427902\n"
     ]
    }
   ],
   "source": [
    "y_pred_mean_age_rf = rf_mean_age.predict(X_test)\n",
    "y_pred_mean_age_mlp = mlp_mean_age.predict(X_test)\n",
    "\n",
    "print('Random Forest:\\n', classification_report(y_pred_mean_age_rf, y_test))\n",
    "print('Score:\\n', rf_mean_age.score(X_test, y_test))\n",
    "\n",
    "print('Random Forest:\\n', classification_report(y_pred_mean_age_mlp, y_test))\n",
    "print('Score:\\n', mlp_mean_age.score(X_test, y_test))\n",
    "\n",
    "\n",
    "# it appears that switch from age groups to mean values for that age group reduces model accuracy. \n",
    "\n"
   ]
  },
  {
   "cell_type": "code",
   "execution_count": 10,
   "metadata": {},
   "outputs": [
    {
     "name": "stdout",
     "output_type": "stream",
     "text": [
      "0.9229893511859865\n"
     ]
    }
   ],
   "source": [
    "# this data is very uneven in that 92% of the data is either NDF, US, or other\n",
    "\n",
    "print(len(df.loc[df.country_destination.isin(('NDF', 'US', 'other'))]) / len(df))\n",
    "\n",
    "# I want to try evening out the data to have an number of samples in each category.\n",
    "# to do this, I will sample each destination with replacement to create equal sized sets\n",
    "\n",
    "n = len(df.loc[df['country_destination'] == 'NDF'])\n",
    "\n",
    "df_even = pd.DataFrame(columns=df.columns)\n",
    "for cd in list(df['country_destination'].unique()):\n",
    "    temp_df = df.loc[df['country_destination'] == cd].sample(n=n, \n",
    "                                                             replace=True, \n",
    "                                                             random_state=random_state)\n",
    "    df_even = pd.concat([df_even, temp_df], ignore_index=True)\n"
   ]
  },
  {
   "cell_type": "code",
   "execution_count": 11,
   "metadata": {},
   "outputs": [],
   "source": [
    "# okay, now that I have my even sized distributions of destinations, how well do the classifiers \n",
    "# work in predicting destination? \n",
    "\n",
    "y_even = df_even.country_destination\n",
    "\n",
    "# predictors are every variable except  country_desintation and the date values. \n",
    "# (days between date_account_created and date_first_booking is stored as calculated column)\n",
    "X_even = df_even.drop(['id', 'country_destination', 'date_account_created', 'timestamp_first_active', \n",
    "            'date_first_booking'], axis=1)\n",
    "\n",
    "# set signup flow to be a numeric variable \n",
    "X_even.signup_flow = X_even.signup_flow.astype('int')\n",
    "\n",
    "# onehot encode\n",
    "X_onehot_even = pd.get_dummies(X_even)\n",
    "\n",
    "# make sure the columns match the original X_onehot\n",
    "for col in X_onehot.columns:\n",
    "    if col not in X_onehot_even.columns:\n",
    "        X_onehot_even[col] = 0\n",
    "\n",
    "# fill in NaN ages\n",
    "X_onehot_even.age = X_onehot_even.age.fillna(0)\n",
    "\n",
    "# replace null values in the \"days to book\" column with 100000.\n",
    "X_onehot_even.days_to_book = X_onehot_even.days_to_book.fillna(100000)\n",
    "\n",
    "# create a test/train split\n",
    "X_train_even, X_test_even, y_train_even, y_test_even = train_test_split(\n",
    "    X_onehot_even, y_even, test_size=0.25, random_state=random_state)"
   ]
  },
  {
   "cell_type": "code",
   "execution_count": 14,
   "metadata": {},
   "outputs": [
    {
     "data": {
      "text/plain": [
       "MLPClassifier(activation='relu', alpha=0.0001, batch_size='auto', beta_1=0.9,\n",
       "       beta_2=0.999, early_stopping=False, epsilon=1e-08,\n",
       "       hidden_layer_sizes=(100,), learning_rate='constant',\n",
       "       learning_rate_init=0.001, max_iter=200, momentum=0.9,\n",
       "       nesterovs_momentum=True, power_t=0.5, random_state=1, shuffle=True,\n",
       "       solver='adam', tol=0.0001, validation_fraction=0.1, verbose=False,\n",
       "       warm_start=False)"
      ]
     },
     "execution_count": 14,
     "metadata": {},
     "output_type": "execute_result"
    }
   ],
   "source": [
    "# Let's start by trying the MLP classifer on the evenly distributed data\n",
    "mlp_even = MLPClassifier(random_state=1)\n",
    "mlp_even.fit(X_train_even, y_train_even)"
   ]
  },
  {
   "cell_type": "code",
   "execution_count": null,
   "metadata": {},
   "outputs": [
    {
     "name": "stdout",
     "output_type": "stream",
     "text": [
      "Score:\n",
      " 0.3514930586223232\n",
      "Classification report:\n",
      "              precision    recall  f1-score   support\n",
      "\n",
      "         AU       0.42      0.44      0.43     31061\n",
      "         CA       0.29      0.18      0.22     31049\n",
      "         DE       0.33      0.32      0.33     31324\n",
      "         ES       0.22      0.21      0.21     31159\n",
      "         FR       0.16      0.15      0.15     30955\n",
      "         GB       0.16      0.21      0.18     31228\n",
      "         IT       0.21      0.15      0.18     31122\n",
      "        NDF       1.00      1.00      1.00     30952\n",
      "         NL       0.32      0.41      0.36     31004\n",
      "         PT       0.52      0.91      0.67     31381\n",
      "         US       0.19      0.05      0.07     31227\n",
      "      other       0.16      0.19      0.17     31167\n",
      "\n",
      "avg / total       0.33      0.35      0.33    373629\n",
      "\n"
     ]
    }
   ],
   "source": [
    "y_pred_even = mlp_even.predict(X_test_even)\n",
    "print('Score:\\n', mlp_even.score(X_test_even, y_test_even))\n",
    "print('Classification report:\\n', classification_report(y_test_even, y_pred_even))\n",
    "\n",
    "# that result is much worse than with the orignal data. The bootstrap process to even out the\n",
    "# data did not produce the desired result."
   ]
  },
  {
   "cell_type": "code",
   "execution_count": null,
   "metadata": {},
   "outputs": [],
   "source": [
    "# does Random Forest, which gave me improved matching on non-US, non-NDF countries in the original\n",
    "# data, improve results with the bootstrapped data?\n",
    "\n",
    "# bump up the number of estimators to 400. More estimators increases accuracy with \n",
    "# original model\n",
    "\n",
    "# try adjusting RF parameters\n",
    "# max_depth - try around 5-10 and then around that range\n",
    "# min_samples_split - larger values might result in less overfitting\n",
    "rf_even = RandomForestClassifier(n_estimators=400, n_jobs=3)\n",
    "\n",
    "rf_even.fit(X_train_even, y_train_even)"
   ]
  },
  {
   "cell_type": "code",
   "execution_count": null,
   "metadata": {},
   "outputs": [],
   "source": [
    "y_pred_even_rf = rf_even.predict(X_test_even)\n",
    "\n",
    "sorted_classes = sorted(y.unique())\n",
    "cr = classification_report(y_test_even, y_pred_even_rf)\n",
    "cm = confusion_matrix(y_test_even, y_pred_even_rf)\n",
    "print('Score:\\n', rf_even.score(X_test_even, y_test_even))\n",
    "print('Classification report:\\n', cr)\n",
    "print('Confusion Matrix report:\\n', cm_to_df(cm, classes=sorted_classes))\n",
    "\n",
    "# Random Forest saw a massive improvement in accuracy. Up to 89.04% score! \n",
    "# the classification report also shows much better accuracy for specific country destinations\n",
    "# this is a fantastic result! However this result was generated using the bootstrapped\n",
    "# data. \n",
    "_ = cm_plot(cm, classes=sorted_classes, title='Confusion Matrix - Random Forest using Balanced Data', normalize=True)\n",
    "plt.show()"
   ]
  },
  {
   "cell_type": "code",
   "execution_count": null,
   "metadata": {},
   "outputs": [],
   "source": [
    "# how well does this fitted model work with the original, non-bootstrapped data? \n",
    "\n",
    "y_pred_full_rf = rf_even.predict(X_train)\n",
    "\n",
    "score = rf_even.score(X_train, y_train)\n",
    "cr = classification_report(y_train, y_pred_full_rf)\n",
    "cm = confusion_matrix(y_train, y_pred_full_rf)\n",
    "\n",
    "print('Score:\\n', score)\n",
    "print('Classification report:\\n', cr)\n",
    "print('Confusion Matrix', cm_to_df(cm, classes=sorted_classes))\n",
    "# improvement over RF on the original data. still low precision on some countries with \n",
    "# small number of observations, and US, 2nd largest category, only .71 precision. \n",
    "# Low recall on every country except US and other, which is same pattern we've been seeing\n",
    "\n",
    "_ = cm_plot(cm, classes=sorted_classes, title='Confusion Matrix - Random Forest trained with Balanced Data', normalize=True)\n",
    "plt.show()"
   ]
  },
  {
   "cell_type": "code",
   "execution_count": null,
   "metadata": {},
   "outputs": [],
   "source": [
    "# try a grid search to see if we can optimize.\n",
    "from sklearn.model_selection import GridSearchCV\n",
    "\n",
    "rf_params = {\n",
    "    'n_estimators': [400, 500, 600],\n",
    "    'max_features': [7, 10, None, 'auto'],\n",
    "    'min_samples_split': [2,3,4]\n",
    "}\n",
    "\n",
    "rf_grid = GridSearchCV(estimator=RandomForestClassifier(), param_grid=rf_params, n_jobs=3)\n",
    "rf_grid.fit(X_train_even, y_train_even)\n"
   ]
  },
  {
   "cell_type": "code",
   "execution_count": null,
   "metadata": {},
   "outputs": [],
   "source": [
    "y_rf_grid_pred = rf_grid.predict(X_test_even)\n",
    "\n",
    "best_params = rf_grid.best_params_\n",
    "best_score = rf_grid.best_score_\n",
    "cr = classification_report(y_test_even, rf_grid_pred)\n",
    "cm = confusion_matrix(y_test_even, rf_grid_pred)\n",
    "print(best_params)\n",
    "print(best_score)\n",
    "print(classification_report(y_test_even, rf_grid_pred))\n",
    "print(cm_to_df(cm, classes=sorted_classes))\n",
    "\n",
    "_ = cm_plot(cm, classes=sorted_classes, title='Confusion Matrix - Random Forest using Balanced Data')\n",
    "plt.show()"
   ]
  },
  {
   "cell_type": "code",
   "execution_count": null,
   "metadata": {
    "scrolled": true
   },
   "outputs": [],
   "source": [
    "feat_import = dict(zip(X_onehot_even.columns, rf_even.feature_importances_))\n",
    "feat_import = sorted(feat_import.items(), key=lambda x: x[1], reverse=True)\n",
    "\n",
    "for item in feat_import:\n",
    "    print('{0}: {1}'.format(item[0], item[1]))\n"
   ]
  },
  {
   "cell_type": "code",
   "execution_count": null,
   "metadata": {},
   "outputs": [],
   "source": [
    "# also try ExtraTreesClassifer\n",
    "etc_even = ExtraTreesClassifier(n_estimators=500, max_features=None)\n",
    "\n",
    "etc_even.fit(X_train_even, y_train_even)\n",
    "\n",
    "y_pred_even_etc = etc_even.predict(X_test_even)\n",
    "\n",
    "print('Score:\\n', rf_even.score(X_test_even, y_test_even))\n",
    "print('Classification report:\\n', classification_report(y_test_even, y_pred_even_etc))\n",
    "\n",
    "# high accuracy on the balanced data"
   ]
  },
  {
   "cell_type": "code",
   "execution_count": null,
   "metadata": {},
   "outputs": [],
   "source": [
    "# how does the ETC model fitted with the balanaced data work on the \n",
    "# original data?\n",
    "y_pred_orig_etc = etc_even.predict(X_train)\n",
    "\n",
    "print('Score:\\n', rf_even.score(X_train, y_train))\n",
    "print('Classification report:\\n', classification_report(y_train, y_pred_orig_etc))\n",
    "\n",
    "# not great"
   ]
  },
  {
   "cell_type": "code",
   "execution_count": 37,
   "metadata": {},
   "outputs": [
    {
     "data": {
      "text/plain": [
       "AdaBoostClassifier(algorithm='SAMME.R', base_estimator=None,\n",
       "          learning_rate=1.0, n_estimators=500, random_state=None)"
      ]
     },
     "execution_count": 37,
     "metadata": {},
     "output_type": "execute_result"
    }
   ],
   "source": [
    "from sklearn.ensemble import AdaBoostClassifier\n",
    "ada = AdaBoostClassifier(n_estimators=500)\n",
    "\n",
    "ada.fit(X_train, y_train)\n"
   ]
  },
  {
   "cell_type": "code",
   "execution_count": 38,
   "metadata": {},
   "outputs": [
    {
     "name": "stdout",
     "output_type": "stream",
     "text": [
      "Score:\n",
      " 0.593179049939\n",
      "Classification report:\n",
      "              precision    recall  f1-score   support\n",
      "\n",
      "         AU       0.00      0.03      0.00        59\n",
      "         CA       0.00      0.00      0.00       134\n",
      "         DE       0.02      0.16      0.03       114\n",
      "         ES       0.07      0.01      0.02       204\n",
      "         FR       0.00      0.00      0.00       472\n",
      "         GB       0.04      0.08      0.05       251\n",
      "         IT       0.04      0.01      0.01       286\n",
      "        NDF       1.00      1.00      1.00     12547\n",
      "         NL       0.01      0.58      0.01        57\n",
      "         PT       0.00      0.25      0.01        16\n",
      "         US       0.80      0.01      0.01      6256\n",
      "      other       0.14      0.00      0.00       950\n",
      "\n",
      "avg / total       0.83      0.59      0.59     21346\n",
      "\n",
      "Confusion matrix:\n",
      "\n",
      "        AU  CA   DE  ES  FR   GB  IT    NDF    NL    PT  US  other\n",
      "AU       2   0    4   1   0    4   0      0    37    11   0      0\n",
      "CA      16   0   19   0   0    2   0      0    77    20   0      0\n",
      "DE       5   0   18   1   0    4   0      0    64    22   0      0\n",
      "ES      18   0   18   3   0   10   1      0   115    37   2      0\n",
      "FR      22   0   62   2   0   32   2      0   261    90   1      0\n",
      "GB      17   0   28   1   0   19   0      0   139    45   2      0\n",
      "IT      19   0   32   1   1   13   2      0   158    59   1      0\n",
      "NDF      0   0    0   0   0    0   0  12547     0     0   0      0\n",
      "NL       3   0   10   0   0    1   0      0    33    10   0      0\n",
      "PT       1   0    3   0   0    0   1      0     7     4   0      0\n",
      "US     576   5  714  28   1  384  29      0  3450  1030  33      6\n",
      "other   67   1  123   4   0   51  12      0   534   155   2      1\n"
     ]
    },
    {
     "data": {
      "image/png": "[encoded data removed]",
      "text/plain": [
       "<matplotlib.figure.Figure at 0x22406a1d8d0>"
      ]
     },
     "metadata": {},
     "output_type": "display_data"
    }
   ],
   "source": [
    "from sklearn.metrics import classification_report\n",
    "from sklearn.metrics import confusion_matrix\n",
    "y_pred_ada = ada.predict(X_test)\n",
    "print('Score:\\n', ada.score(X_test, y_test))\n",
    "print('Classification report:\\n', classification_report(y_test, y_pred_ada))\n",
    "print('Confusion matrix:\\n') \n",
    "print(cm_to_df(confusion_matrix(y_test, y_pred_ada), classes=sorted_classes))\n",
    "\n",
    "# Disappointing result\n",
    "\n",
    "_ = cm_plot(confusion_matrix(y_test_even, y_pred_ada_even), sorted_classes, \n",
    "            'AdaBoostClassifer Confusion Matrix with Balanced Classes', normalize=True)\n",
    "plt.show()"
   ]
  },
  {
   "cell_type": "code",
   "execution_count": 35,
   "metadata": {},
   "outputs": [
    {
     "name": "stdout",
     "output_type": "stream",
     "text": [
      "Score:\n",
      " 0.174584481974\n",
      "Classification report:\n",
      "              precision    recall  f1-score   support\n",
      "\n",
      "         AU       0.10      0.16      0.13     12475\n",
      "         CA       0.10      0.23      0.14     12515\n",
      "         DE       0.09      0.11      0.10     12548\n",
      "         ES       0.11      0.16      0.13     12403\n",
      "         FR       0.11      0.00      0.00     12440\n",
      "         GB       0.34      0.00      0.00     12565\n",
      "         IT       0.10      0.22      0.14     12533\n",
      "        NDF       1.00      1.00      1.00     12256\n",
      "         NL       0.10      0.12      0.11     12399\n",
      "         PT       0.10      0.09      0.09     12460\n",
      "         US       0.26      0.00      0.00     12592\n",
      "      other       0.12      0.00      0.00     12266\n",
      "\n",
      "avg / total       0.21      0.17      0.15    149452\n",
      "\n",
      "Confusion matrix:\n",
      "\n"
     ]
    },
    {
     "data": {
      "text/plain": [
       "array([[ 2020,  2934,  1643,  1496,    60,     0,  2166,     0,  1492,\n",
       "          664,     0,     0],\n",
       "       [ 1658,  2861,  1365,  1914,    25,    12,  2629,     0,  1153,\n",
       "          853,    19,    26],\n",
       "       [ 1600,  2835,  1440,  2163,    18,    10,  2081,     0,  1377,\n",
       "         1014,     0,    10],\n",
       "       [ 1550,  2443,  1407,  2027,     0,     0,  2546,     0,  1313,\n",
       "         1105,     0,    12],\n",
       "       [ 1773,  2535,  1375,  1750,    23,     0,  2579,     0,  1347,\n",
       "         1055,     0,     3],\n",
       "       [ 1863,  2541,  1266,  1585,    42,    16,  2491,     0,  1649,\n",
       "         1101,     5,     6],\n",
       "       [ 1944,  2276,  1327,  1660,    10,     0,  2812,     0,  1323,\n",
       "         1175,     6,     0],\n",
       "       [    0,     0,     0,     0,     0,     0,     0, 12256,     0,\n",
       "            0,     0,     0],\n",
       "       [ 1604,  2575,  1361,  1727,     0,     0,  2531,     0,  1506,\n",
       "         1072,    13,    10],\n",
       "       [ 2193,  2630,  1183,  1388,     0,     0,  2467,     0,  1455,\n",
       "         1094,     0,    50],\n",
       "       [ 1663,  2805,  1810,  1731,    16,     3,  2347,     0,  1256,\n",
       "          935,    20,     6],\n",
       "       [ 1567,  2782,  1507,  1613,     7,     6,  2690,     0,  1113,\n",
       "          950,    14,    17]], dtype=int64)"
      ]
     },
     "execution_count": 35,
     "metadata": {},
     "output_type": "execute_result"
    }
   ],
   "source": [
    "# also try it with the balanced data\n",
    "\n",
    "# X_train_even, X_test_even, y_train_even, y_test_even\n",
    "\n",
    "ada_even = AdaBoostClassifier(n_estimators=300)\n",
    "\n",
    "ada_even.fit(X_train_even, y_train_even)\n",
    "\n",
    "from sklearn.metrics import classification_report\n",
    "from sklearn.metrics import confusion_matrix\n",
    "y_pred_ada_even = ada_even.predict(X_test_even)\n",
    "print('Score:\\n', ada_even.score(X_test_even, y_test_even))\n",
    "print('Classification report:\\n', classification_report(y_test_even, y_pred_ada_even))\n",
    "print('Confusion matrix:\\n') \n",
    "confusion_matrix(y_test_even, y_pred_ada_even)\n",
    "\n",
    "# really bad. AdaBoost is apparently not well suited for this data"
   ]
  },
  {
   "cell_type": "code",
   "execution_count": 45,
   "metadata": {},
   "outputs": [
    {
     "data": {
      "image/png": "[encoded data removed]",
      "text/plain": [
       "<matplotlib.figure.Figure at 0x12e88eda128>"
      ]
     },
     "metadata": {},
     "output_type": "display_data"
    }
   ],
   "source": [
    "_ = cm_plot(confusion_matrix(y_test_even, y_pred_ada_even), sorted(y.unique()), \n",
    "            'AdaBoostClassifer Confusion Matrix with Balanced Classes', \n",
    "            normalize=True)\n",
    "\n",
    "plt.show()"
   ]
  },
  {
   "cell_type": "code",
   "execution_count": 61,
   "metadata": {},
   "outputs": [
    {
     "data": {
      "text/plain": [
       "GaussianNB(priors=None)"
      ]
     },
     "execution_count": 61,
     "metadata": {},
     "output_type": "execute_result"
    }
   ],
   "source": [
    "nb = GaussianNB()\n",
    "\n",
    "nb.fit(X_train_even, y_train_even)"
   ]
  },
  {
   "cell_type": "code",
   "execution_count": 80,
   "metadata": {},
   "outputs": [
    {
     "name": "stdout",
     "output_type": "stream",
     "text": [
      "             precision    recall  f1-score   support\n",
      "\n",
      "         AU       0.14      0.02      0.04     12475\n",
      "         CA       0.11      0.11      0.11     12515\n",
      "         DE       0.12      0.28      0.16     12548\n",
      "         ES       0.12      0.16      0.13     12403\n",
      "         FR       0.10      0.18      0.13     12440\n",
      "         GB       0.12      0.13      0.13     12565\n",
      "         IT       0.11      0.24      0.15     12533\n",
      "        NDF       1.00      1.00      1.00     12256\n",
      "         NL       0.20      0.01      0.01     12399\n",
      "         PT       0.19      0.02      0.03     12460\n",
      "         US       0.12      0.10      0.11     12592\n",
      "      other       0.11      0.01      0.02     12266\n",
      "\n",
      "avg / total       0.20      0.19      0.17    149452\n",
      "\n",
      "        AU    CA    DE    ES    FR    GB    IT    NDF  NL   PT    US  other\n",
      "AU     288  1167  2998  1383  2059  1349  1937      0  26   67  1090    111\n",
      "CA     152  1361  2864  1407  1996  1115  2547      0  22   54   941     56\n",
      "DE     149  1073  3570  1439  1940  1329  2033      0  41  129   720    125\n",
      "ES     202   900  2607  1944  2048  1036  2572      0  30  101   859    104\n",
      "FR     172   996  2511  1495  2255  1316  2813      0  24   78   738     42\n",
      "GB     195  1014  2740  1409  2074  1648  2411      0  16  101   838    119\n",
      "IT     150   862  2253  1629  2218  1260  3026      0  23  109   865    138\n",
      "NDF      0     0     0     0     0     0     0  12256   0    0     0      0\n",
      "NL     207  1132  3007  1543  2034  1105  2188      0  64  107   900    112\n",
      "PT     172  1265  2589  1881  1708  1031  2554      0   0  235   832    193\n",
      "US     153  1214  2843  1478  1992  1116  2253      0  34  129  1243    137\n",
      "other  183  1298  2748  1278  1852  1000  2454      0  39  126  1154    134\n"
     ]
    },
    {
     "data": {
      "image/png": "[encoded data removed]",
      "text/plain": [
       "<matplotlib.figure.Figure at 0x12ea8cb0d68>"
      ]
     },
     "metadata": {},
     "output_type": "display_data"
    }
   ],
   "source": [
    "y_pred_gb_even = nb.predict(X_test_even)\n",
    "cr = classification_report(y_test_even, y_pred_gb_even)\n",
    "cm = confusion_matrix(y_test_even, y_pred_gb_even)\n",
    "\n",
    "print(cr)\n",
    "print(cm_to_df(cm, classes=sorted_classes))\n",
    "\n",
    "_ = cm_plot(cm, sorted_classes, 'Confusion Matrix - Naive Bayes on Balanced Data - 12 Category', normalize=True)\n",
    "plt.show()\n",
    "\n"
   ]
  }
 ],
 "metadata": {
  "kernelspec": {
   "display_name": "Python 3",
   "language": "python",
   "name": "python3"
  },
  "language_info": {
   "codemirror_mode": {
    "name": "ipython",
    "version": 3
   },
   "file_extension": ".py",
   "mimetype": "text/x-python",
   "name": "python",
   "nbconvert_exporter": "python",
   "pygments_lexer": "ipython3",
   "version": "3.6.4"
  }
 },
 "nbformat": 4,
 "nbformat_minor": 2
}
